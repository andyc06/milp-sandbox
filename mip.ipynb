{
 "cells": [
  {
   "cell_type": "markdown",
   "metadata": {},
   "source": [
    "Adapted from https://developers.google.com/optimization/assignment/assignment_cp#mip_solution"
   ]
  },
  {
   "cell_type": "markdown",
   "metadata": {},
   "source": [
    "### Import libraries"
   ]
  },
  {
   "cell_type": "code",
   "execution_count": null,
   "metadata": {},
   "outputs": [],
   "source": [
    "from ortools.linear_solver import pywraplp"
   ]
  },
  {
   "cell_type": "markdown",
   "metadata": {},
   "source": [
    "### Define data"
   ]
  },
  {
   "cell_type": "code",
   "execution_count": null,
   "metadata": {},
   "outputs": [],
   "source": [
    "# List of tasks to be assigned\n",
    "# cat_a and cat_b are binary flags that classify each task on some dimension\n",
    "# They're integers so they can be summed to compare to a worker's allowable range of tasks\n",
    "# having a given category\n",
    "tasks = [\n",
    "    {\n",
    "        \"id\": 1,\n",
    "        \"profit\": 12,\n",
    "        \"cat_a\": 0,\n",
    "        \"cat_b\": 1,\n",
    "    },\n",
    "    {\n",
    "        \"id\": 2,\n",
    "        \"profit\": 32,\n",
    "        \"cat_a\": 0,\n",
    "        \"cat_b\": 0,\n",
    "    },\n",
    "    {\n",
    "        \"id\": 3,\n",
    "        \"profit\": 54,\n",
    "        \"cat_a\": 1,\n",
    "        \"cat_b\": 1,\n",
    "    },\n",
    "    {\n",
    "        \"id\": 4,\n",
    "        \"profit\": 5,\n",
    "        \"cat_a\": 1,\n",
    "        \"cat_b\": 0,\n",
    "    },\n",
    "    {\n",
    "        \"id\": 5,\n",
    "        \"profit\": 11,\n",
    "        \"cat_a\": 1,\n",
    "        \"cat_b\": 1,\n",
    "    },\n",
    "    {\n",
    "        \"id\": 6,\n",
    "        \"profit\": 45,\n",
    "        \"cat_a\": 0,\n",
    "        \"cat_b\": 1,\n",
    "    },\n",
    "]\n",
    "\n",
    "workers = [\n",
    "    {\n",
    "        \"id\": 1,\n",
    "        \"max_a\": 2,\n",
    "        \"max_b\": 100,  # arbitrarily large value\n",
    "    },\n",
    "    {\n",
    "        \"id\": 2,\n",
    "        \"max_a\": 4,\n",
    "        \"max_b\": 100,\n",
    "    },\n",
    "    {\n",
    "        \"id\": 3,\n",
    "        \"max_a\": 2,\n",
    "        \"max_b\": 100,\n",
    "    },\n",
    "]"
   ]
  },
  {
   "cell_type": "code",
   "execution_count": null,
   "metadata": {},
   "outputs": [],
   "source": [
    "l = [task.get(\"cat_a\") for task in tasks]\n",
    "print(l)"
   ]
  },
  {
   "cell_type": "markdown",
   "metadata": {},
   "source": [
    "### Declare solver"
   ]
  },
  {
   "cell_type": "code",
   "execution_count": null,
   "metadata": {},
   "outputs": [],
   "source": [
    "# Create the mip solver with the SCIP backend.\n",
    "solver = pywraplp.Solver.CreateSolver('SCIP')"
   ]
  },
  {
   "cell_type": "markdown",
   "metadata": {},
   "source": [
    "### Create variables"
   ]
  },
  {
   "cell_type": "code",
   "execution_count": null,
   "metadata": {},
   "outputs": [],
   "source": [
    "# x[i, j] is an array of 0-1 variables, which will be 1\n",
    "# if worker i is assigned to task j.\n",
    "x = {}\n",
    "for worker in workers:\n",
    "    for task in tasks:\n",
    "        x[worker[\"id\"], task[\"id\"]] = solver.BoolVar(f'x[{worker[\"id\"]},{task[\"id\"]}]')"
   ]
  },
  {
   "cell_type": "markdown",
   "metadata": {},
   "source": [
    "### Add constraints"
   ]
  },
  {
   "cell_type": "code",
   "execution_count": null,
   "metadata": {},
   "outputs": [],
   "source": [
    "# The sum of task Category A (cat_a) values is <= the worker's Maximum A (max_a) value\n",
    "for worker in workers:\n",
    "    solver.Add(\n",
    "        solver.Sum([\n",
    "            task.get(\"cat_a\") * x[worker.get(\"id\"), task.get(\"id\")] for task in tasks\n",
    "        ]) <= worker.get(\"max_a\")\n",
    "        )\n",
    "\n",
    "# Each task is assigned to exactly one worker.\n",
    "for task in tasks:\n",
    "    solver.Add(\n",
    "        solver.Sum([x[worker.get(\"id\"), task.get(\"id\")] for worker in workers]) == 1)"
   ]
  },
  {
   "cell_type": "markdown",
   "metadata": {},
   "source": [
    "### Create objective"
   ]
  },
  {
   "cell_type": "code",
   "execution_count": null,
   "metadata": {},
   "outputs": [],
   "source": [
    "objective_terms = []\n",
    "for worker in workers:\n",
    "    for task in tasks:\n",
    "        objective_terms.append(task.get(\"profit\") * x[worker.get(\"id\"), task.get(\"id\")])\n",
    "\n",
    "solver.Maximize(solver.Sum(objective_terms))"
   ]
  },
  {
   "cell_type": "markdown",
   "metadata": {},
   "source": [
    "### Invoke the solver"
   ]
  },
  {
   "cell_type": "code",
   "execution_count": null,
   "metadata": {},
   "outputs": [],
   "source": [
    "status = solver.Solve()"
   ]
  },
  {
   "cell_type": "markdown",
   "metadata": {},
   "source": [
    "### Display results"
   ]
  },
  {
   "cell_type": "code",
   "execution_count": null,
   "metadata": {},
   "outputs": [],
   "source": [
    "if status == pywraplp.Solver.OPTIMAL or status == pywraplp.Solver.FEASIBLE:\n",
    "    print(f'Total profit = {solver.Objective().Value()}\\n')\n",
    "    for worker in workers:\n",
    "        for task in tasks:\n",
    "            if x[worker.get(\"id\"), task.get(\"id\")].solution_value() > 0.5:\n",
    "                print(f'Worker {worker.get(\"id\")} assigned to task {task.get(\"id\")}.'\n",
    "                      + f' Profit: {task.get(\"profit\")}'\n",
    "                      )\n",
    "else:\n",
    "    print('No solution found.')"
   ]
  }
 ],
 "metadata": {
  "kernelspec": {
   "display_name": "venv",
   "language": "python",
   "name": "python3"
  },
  "language_info": {
   "codemirror_mode": {
    "name": "ipython",
    "version": 3
   },
   "file_extension": ".py",
   "mimetype": "text/x-python",
   "name": "python",
   "nbconvert_exporter": "python",
   "pygments_lexer": "ipython3",
   "version": "3.11.0"
  },
  "orig_nbformat": 4
 },
 "nbformat": 4,
 "nbformat_minor": 2
}
